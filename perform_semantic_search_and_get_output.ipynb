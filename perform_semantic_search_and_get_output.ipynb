{
 "cells": [
  {
   "cell_type": "markdown",
   "id": "cf5e8213-1971-4a26-aa15-9e685b197d40",
   "metadata": {},
   "source": [
    "## Import Modules"
   ]
  },
  {
   "cell_type": "code",
   "execution_count": 3,
   "id": "2e6b45b9-94d1-4f26-8a23-2c2c26dcaad1",
   "metadata": {
    "tags": []
   },
   "outputs": [],
   "source": [
    "from vertexai.language_models import TextEmbeddingModel\n",
    "from google.cloud import aiplatform\n",
    "import vertexai\n",
    "from vertexai.preview.generative_models import GenerativeModel, Part\n",
    "import json\n",
    "import os"
   ]
  },
  {
   "cell_type": "markdown",
   "id": "b2906c6f-b136-4e14-b312-0a5985915ece",
   "metadata": {},
   "source": [
    "## Initialize Variables"
   ]
  },
  {
   "cell_type": "code",
   "execution_count": 7,
   "id": "05090f2a-2b76-4446-a7d7-5da2ec82db88",
   "metadata": {
    "tags": []
   },
   "outputs": [],
   "source": [
    "project=\"robust-habitat-439810-p4\"\n",
    "location=\"us-central1\"\n",
    "MODEL_NAME = \"text-embedding-preview-0815\"\n",
    "sentence_file_path = \"lakeside_sentences.json\"\n",
    "index_name = \"lakeside_index\""
   ]
  },
  {
   "cell_type": "markdown",
   "id": "bd4df9ea-81fc-4d68-b707-a99b8e256b8d",
   "metadata": {
    "tags": []
   },
   "source": [
    "## Initialize Model and Vector Index"
   ]
  },
  {
   "cell_type": "code",
   "execution_count": 13,
   "id": "b3162890-1b5e-42f8-be39-7e146ac0a5d4",
   "metadata": {
    "tags": []
   },
   "outputs": [],
   "source": [
    "aiplatform.init(project=project,location=location)\n",
    "vertexai.init()\n",
    "model = GenerativeModel(\"gemini-pro\")\n",
    "index_id = \"6361453220916625408\" # Get from Index Endpoints page\n",
    "lakeside_index_ep = aiplatform.MatchingEngineIndexEndpoint(index_endpoint_name=index_id)"
   ]
  },
  {
   "cell_type": "markdown",
   "id": "40c90dd7-5d31-4682-953c-c05ac58bf3e7",
   "metadata": {},
   "source": [
    "## Helper Functions"
   ]
  },
  {
   "cell_type": "code",
   "execution_count": 20,
   "id": "4050bd43-3d42-4e51-b033-a43ae8b032d0",
   "metadata": {
    "tags": []
   },
   "outputs": [],
   "source": [
    "def generate_text_embeddings(sentences) -> list:    \n",
    "    model = TextEmbeddingModel.from_pretrained(MODEL_NAME)\n",
    "    embeddings = model.get_embeddings(sentences)\n",
    "    vectors = [embedding.values for embedding in embeddings]\n",
    "    return vectors\n",
    "\n",
    "def generate_context(ids,data):\n",
    "    concatenated_names = ''\n",
    "    for id in ids:\n",
    "        for entry in data:\n",
    "            if entry['id'] == id:\n",
    "                concatenated_names += entry['sentence'] + \"\\n\" \n",
    "    return concatenated_names.strip()\n",
    "\n",
    "def load_file(sentence_file_path):\n",
    "    data = []\n",
    "    with open(sentence_file_path, 'r') as file:\n",
    "        for line in file:\n",
    "            entry = json.loads(line)\n",
    "            data.append(entry)\n",
    "    return data"
   ]
  },
  {
   "cell_type": "markdown",
   "id": "f4c603c7-e7df-4f0b-ae26-66d2979fbce9",
   "metadata": {},
   "source": [
    "## Perform Semantic Search"
   ]
  },
  {
   "cell_type": "code",
   "execution_count": 24,
   "id": "e84c1538-339f-4c3b-85c9-dfa58e04d196",
   "metadata": {
    "tags": []
   },
   "outputs": [],
   "source": [
    "data=load_file(sentence_file_path)\n",
    "\n",
    "query = [\"What are the benefits of wildlife to people\"]\n",
    "qry_emb=generate_text_embeddings(query)"
   ]
  },
  {
   "cell_type": "code",
   "execution_count": 29,
   "id": "edd7275e-9457-45b5-adfd-11fd4487bb46",
   "metadata": {
    "tags": []
   },
   "outputs": [],
   "source": [
    "response = lakeside_index_ep.find_neighbors(\n",
    "    deployed_index_id = index_name,\n",
    "    queries = [qry_emb[0]],\n",
    "    num_neighbors = 10\n",
    ")"
   ]
  },
  {
   "cell_type": "code",
   "execution_count": 30,
   "id": "9225ce55-b051-4017-bd42-e60e96f9442d",
   "metadata": {
    "tags": []
   },
   "outputs": [
    {
     "data": {
      "text/plain": [
       "[[MatchNeighbor(id='bb1d4466-6bc6-4a47-8501-9f9330407276', distance=0.8008383512496948, sparse_distance=None, feature_vector=[], crowding_tag='0', restricts=[], numeric_restricts=[], sparse_embedding_values=[], sparse_embedding_dimensions=[]),\n",
       "  MatchNeighbor(id='6580a845-8c78-4d76-bec8-273218ce2d5a', distance=0.800221860408783, sparse_distance=None, feature_vector=[], crowding_tag='0', restricts=[], numeric_restricts=[], sparse_embedding_values=[], sparse_embedding_dimensions=[]),\n",
       "  MatchNeighbor(id='1e8c1b69-84a1-4cd6-b6dc-aeaef52c7fdf', distance=0.7750945091247559, sparse_distance=None, feature_vector=[], crowding_tag='0', restricts=[], numeric_restricts=[], sparse_embedding_values=[], sparse_embedding_dimensions=[]),\n",
       "  MatchNeighbor(id='14fb7a2f-d12a-4782-b88c-4cc48e3e9adf', distance=0.7558717131614685, sparse_distance=None, feature_vector=[], crowding_tag='0', restricts=[], numeric_restricts=[], sparse_embedding_values=[], sparse_embedding_dimensions=[]),\n",
       "  MatchNeighbor(id='69421f9c-e7cd-410e-8617-0981de7d51aa', distance=0.7543067932128906, sparse_distance=None, feature_vector=[], crowding_tag='0', restricts=[], numeric_restricts=[], sparse_embedding_values=[], sparse_embedding_dimensions=[]),\n",
       "  MatchNeighbor(id='27627a3f-5429-40b9-89e1-40e1a388e320', distance=0.7418204545974731, sparse_distance=None, feature_vector=[], crowding_tag='0', restricts=[], numeric_restricts=[], sparse_embedding_values=[], sparse_embedding_dimensions=[]),\n",
       "  MatchNeighbor(id='a4559757-e4c4-499f-a282-c7c92c0faa33', distance=0.7167658805847168, sparse_distance=None, feature_vector=[], crowding_tag='0', restricts=[], numeric_restricts=[], sparse_embedding_values=[], sparse_embedding_dimensions=[]),\n",
       "  MatchNeighbor(id='2bac004e-c8ed-482c-8f3b-275a28d8e3b5', distance=0.6735198497772217, sparse_distance=None, feature_vector=[], crowding_tag='0', restricts=[], numeric_restricts=[], sparse_embedding_values=[], sparse_embedding_dimensions=[]),\n",
       "  MatchNeighbor(id='c59e1489-56d5-410c-b60f-081b13ef2a5e', distance=0.6727938652038574, sparse_distance=None, feature_vector=[], crowding_tag='0', restricts=[], numeric_restricts=[], sparse_embedding_values=[], sparse_embedding_dimensions=[]),\n",
       "  MatchNeighbor(id='69606a83-86bf-4bd5-95f4-6f8cbae36a8b', distance=0.6645606756210327, sparse_distance=None, feature_vector=[], crowding_tag='0', restricts=[], numeric_restricts=[], sparse_embedding_values=[], sparse_embedding_dimensions=[])]]"
      ]
     },
     "execution_count": 30,
     "metadata": {},
     "output_type": "execute_result"
    }
   ],
   "source": [
    "response"
   ]
  },
  {
   "cell_type": "markdown",
   "id": "74f40fae-c5e7-41ac-b3a3-19f0823b747f",
   "metadata": {},
   "source": [
    "## Load IDs and Generate Context"
   ]
  },
  {
   "cell_type": "code",
   "execution_count": 31,
   "id": "e305baa7-ba5f-489b-8851-3b674ed95284",
   "metadata": {
    "tags": []
   },
   "outputs": [
    {
     "name": "stdout",
     "output_type": "stream",
     "text": [
      "context = Apart from a bird feeder in the backyard, we can also take up other active pastimes, such as hiking, hunting, canoeing or wildlife photographing to relieve our parched nerves. Since prehistoric times, animals have been highly useful to us in providing food, clothing and source of income. Benefits to Natural Processes Wildlife plays an essential role in the ecological and biological processes that are yet again significant to life. The normal functioning of the biosphere depends on endless interactions amongst animals, plants, and microorganisms\n",
      "Importance of Wildlife The wildlife comprises all living organism (plants, animals, microorganisms) in their natural habitats which are neither cultivated or domesticated nor tamed. But in its strictest sense, it includes uncultivated mammals, reptiles, birds and fishes etc. Certain importance of wildlife as below: 1. Ecological Balance: Wildlife maintains balance of nature through‐ (a) Regulation of population of different species. (b) Food‐chains or passage of food and energy through series of populations comprising producers, consumers and micro‐organisms\n",
      "This, in turn, maintains and enhances human life further. To add on, these ecological processes are vital for agriculture, forestry, fisheries and other endeavors that support human life. Besides, there are several biological processes wherein wildlife plays a key role, such as pollinization, germination, seed dispersal, soil generation, nutrient cycling, predation, habitat maintenance, waste breakdown, and pest control. Benefits to Science, Agriculture, & Medicine Studies indicate that woodpeckers are capable of destroying 90% of codling moth larvae residing under the bark of trees. This shows the significance of wildlife and wildlife habitat for preserving genetic diversity. Hence, places where agriculture, forests, and fisheries depend on crops or stocks can ensure that such living resources are enough to withstand the ever‐increasing list of threats. Further, in medicine, development of new drugs and treatments are largely dependent on wildlife and wildlife habitat. Interestingly, most pharmaceutical products are a result of discovering or developing wildlife species and not discoveries through the traditional chemistry principles\n",
      "3.Scientific value: Scientists have gathered valuable knowledge about various plants and animals. They discovered important medical products by studying wildlife. 4.Survival value: Wildlife helps to keep the balanced living systems, which ensure survival of life. How Important Is Biodiversity? Biodiversity provides basic human needs such as food, shelter, and medicine\n",
      "12. Potential uses: Just as all present day cultivated/domesticated plants and animals are derived from wildlife; new foods, beverages (A beverage is a type of plant product used by everyone daily which contains an alkaloid called caffeine having the stimulative action in the human body e.g. tea, coffee, cocoa etc. It is also fragmented product of the plant), drugs and other useful products may be obtained in future from wildlife. Benefits of Wildlife Benefits to People Wildlife and nature have largely been associated with humans for numerous emotional and social reasons. A simple stroll around the park amidst some birds provides a fresh breath of life and charges our batteries\n",
      "Conservation of wildlife is important for these reasons: 1.Natural beauty: Because of their unique features, wildlife increases the natural beauty of the earth. 2.Economic value: As it supplies many valuable substances, its economic value is important\n",
      "7. Control of Pollution 8. Perennial Fresh Water 9. Maintenance of Climate 10. Experimental Animals ‐ Monkeys, Rabbits, Guinea‐pigs, Rats etc. 11. Economic Importance: Timber, firewood, paper, gum, resins, tannins, several drugs, essential oils, spices, silk, honey, hair, feathers, guano (the dung of sea‐fishes used as manure or the manure made from fish), leather, musk, ivory etc. are obtained from wildlife. Besides these, benefits are also obtained from: Tourists, Exports, Hide, ivory etc. after death of wild animals; though now‐a days it is legally banned and not in practices\n",
      "7.Over‐exploitation: Exploitation of wild populations for food has resulted in their extinction (over‐ fishing). 8.Accidental deaths: Accidental deaths of animals and birds are also a threat. Steps Taken for Wildlife Conservation So many steps have been taken place to protect endangered plants and animals along with their habitats. The aim of wildlife conservation is to ensure that nature will be there for the future generations to live. In addition, another one is to teach the importance of wildlife to human beings. There are many government agencies dedicated for wildlife conservation and they implement policies designed to protect wildlife. Numerous independent organizations also promote the conservation of wildlife. All over the world, many wildlife conservationists work to identify the species, which are in need of help. They often capture animals and breed them in captivity. This is to make the population large and diverse. The need of wildlife conservation is also considered to be balanced with other requirements such as hiking, camping, and hunting etc. Importance of Wildlife Conservation As there is a high degree of deforestation, efforts are being made by some wildlife conservationists to protect the endangered species of wildlife and those who are on verge of extinction\n",
      "Biodiversity also take part in the function of climate. In terrestrial habitats, tropical areas are rich in species whereas polar areas support lesser species. The conservation of biodiversity is inevitable for the survival of men. Wildlife conservation is the preservation, protection, and restoration of the endangered species. Wildlife represents all the wild animals and birds living in their natural habitats. We have many rare animals, birds on earth. However, the pressure of increasing population has led to the extinction of them. List of Major Threats to Wildlife 1.Loss of habitat: Natural wildlife habitat areas are diminishing each year because of human invasion. 2.Climatic changes: Plants and wildlife are sensitive to climates so, they will be harmed by any change in it. 3.Pesticides and toxic chemicals: Pesticides make the environment toxic to certain plants, and animals. In addition to it, many chemicals are toxic to wildlife including mercury, petroleum by‐products, solvents etc. 4.Hunting: Unregulated hunting cause a major threat to wildlife. Along with this, mismanagement of forest department and forest guards increases this problem. 5.Natural calamities: Floods, earthquakes, volcanoes, lightning, forest fires etc. destroy wildlife. 6.Pollution: Pollutants released into the environment cause danger to a wide variety of organisms\n",
      "Therefore, we must realize the importance of biodiversity and destined to protect our wild life.\n"
     ]
    }
   ],
   "source": [
    "\n",
    "matching_ids = [neighbor.id for sublist in response for neighbor in sublist]\n",
    "\n",
    "context = generate_context(matching_ids,data)\n",
    "print(f\"context = {context}\")\n"
   ]
  },
  {
   "cell_type": "markdown",
   "id": "c6e9b343-3994-47d2-a3d1-fadbc531528a",
   "metadata": {},
   "source": [
    "## Inject Context and Invoke Model"
   ]
  },
  {
   "cell_type": "code",
   "execution_count": 32,
   "id": "23103eb1-f821-4b0f-8f89-3ee53c7842b4",
   "metadata": {
    "tags": []
   },
   "outputs": [
    {
     "name": "stdout",
     "output_type": "stream",
     "text": [
      "The passage mentions various benefits of wildlife to people. Here are some of the key points:\n",
      "\n",
      "* **Ecological Balance:** Wildlife plays a crucial role in maintaining the ecological balance by regulating populations of different species and ensuring the proper functioning of food chains. This, in turn, supports human life by providing clean air, water, and fertile soil.\n",
      "* **Economic Value:** Wildlife provides numerous valuable resources, including food, timber, medicines, and tourism revenue. Many industries rely on wildlife for their survival.\n",
      "* **Scientific Value:** Scientists have discovered important medical products and gained valuable knowledge about various plants and animals through studying wildlife.\n",
      "* **Aesthetic Value:** Wildlife contributes to the natural beauty of the Earth, which provides recreational and spiritual benefits to humans.\n",
      "* **Educational Value:** Learning about wildlife can teach us about the natural world and our place in it, fostering a sense of respect and appreciation for the environment.\n",
      "\n",
      "In summary, wildlife provides numerous benefits to people, ranging from essential resources to cultural and spiritual enrichment. These benefits highlight the importance of wildlife conservation and the need to protect our natural world. \n",
      "\n"
     ]
    }
   ],
   "source": [
    "prompt=f\"Based on the context delimited in backticks, answer the query. ```{context}``` {query}\"\n",
    "\n",
    "chat = model.start_chat(history=[])\n",
    "response = chat.send_message(prompt)\n",
    "print(response.text)"
   ]
  },
  {
   "cell_type": "code",
   "execution_count": 33,
   "id": "fd76dc27-c483-47d6-91df-969d022d817c",
   "metadata": {
    "tags": []
   },
   "outputs": [
    {
     "name": "stdout",
     "output_type": "stream",
     "text": [
      "Wildlife provides many benefits to people, including food, shelter, and medicine. Wildlife also plays a key role in the ecological and biological processes that are essential for life. For example, animals help to regulate the population of different species, and they are involved in food chains that provide energy to all living things. Additionally, wildlife provides economic benefits to humans through tourism, exports, and the sale of wildlife products. It is important to conserve wildlife for both its intrinsic value and for the benefits that it provides to people.\n"
     ]
    }
   ],
   "source": [
    "prompt=f\"Based on the context delimited in backticks, answer the query in a single paragraph of 100 words exactly. ```{context}``` {query}\"\n",
    "\n",
    "chat = model.start_chat(history=[])\n",
    "response = chat.send_message(prompt)\n",
    "print(response.text)"
   ]
  },
  {
   "cell_type": "code",
   "execution_count": null,
   "id": "70a169f8-12f4-475c-bb8f-e838776ef0ce",
   "metadata": {},
   "outputs": [],
   "source": []
  }
 ],
 "metadata": {
  "kernelspec": {
   "display_name": "Python (Local)",
   "language": "python",
   "name": "base"
  },
  "language_info": {
   "codemirror_mode": {
    "name": "ipython",
    "version": 3
   },
   "file_extension": ".py",
   "mimetype": "text/x-python",
   "name": "python",
   "nbconvert_exporter": "python",
   "pygments_lexer": "ipython3",
   "version": "3.10.15"
  }
 },
 "nbformat": 4,
 "nbformat_minor": 5
}
